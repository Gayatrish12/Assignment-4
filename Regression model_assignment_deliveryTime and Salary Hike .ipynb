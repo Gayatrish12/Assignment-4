{
 "cells": [
  {
   "cell_type": "markdown",
   "id": "827382e5",
   "metadata": {},
   "source": [
    "# LinearRegression Model to predict delivery time "
   ]
  },
  {
   "cell_type": "markdown",
   "id": "a64a02c5",
   "metadata": {},
   "source": [
    "# Model For dlivery time prediction from sorting time"
   ]
  },
  {
   "cell_type": "code",
   "execution_count": 2,
   "id": "feec5d04",
   "metadata": {},
   "outputs": [],
   "source": [
    "import pandas as pd\n",
    "import numpy as np\n",
    "import sklearn \n",
    "import matplotlib.pyplot as plt\n",
    "from sklearn.linear_model import LinearRegression\n",
    "import statsmodels.formula.api as smf\n",
    "from sklearn.metrics import r2_score"
   ]
  },
  {
   "cell_type": "code",
   "execution_count": 3,
   "id": "e845ef44",
   "metadata": {},
   "outputs": [],
   "source": [
    "DevT=pd.read_csv(\"delivery_time.csv\")"
   ]
  },
  {
   "cell_type": "code",
   "execution_count": 4,
   "id": "096896f9",
   "metadata": {},
   "outputs": [
    {
     "name": "stdout",
     "output_type": "stream",
     "text": [
      "   Delivery Time  Sorting Time\n",
      "0          21.00            10\n",
      "1          13.50             4\n",
      "2          19.75             6\n",
      "3          24.00             9\n",
      "4          29.00            10\n",
      "5          15.35             6\n",
      "6          19.00             7\n",
      "7           9.50             3\n",
      "8          17.90            10\n",
      "9          18.75             9\n"
     ]
    }
   ],
   "source": [
    "print(DevT.head(10))\n"
   ]
  },
  {
   "cell_type": "code",
   "execution_count": 5,
   "id": "cab7203a",
   "metadata": {},
   "outputs": [],
   "source": [
    "DevT.columns=['delt','sortt']"
   ]
  },
  {
   "cell_type": "code",
   "execution_count": 6,
   "id": "75608311",
   "metadata": {},
   "outputs": [
    {
     "data": {
      "text/html": [
       "<div>\n",
       "<style scoped>\n",
       "    .dataframe tbody tr th:only-of-type {\n",
       "        vertical-align: middle;\n",
       "    }\n",
       "\n",
       "    .dataframe tbody tr th {\n",
       "        vertical-align: top;\n",
       "    }\n",
       "\n",
       "    .dataframe thead th {\n",
       "        text-align: right;\n",
       "    }\n",
       "</style>\n",
       "<table border=\"1\" class=\"dataframe\">\n",
       "  <thead>\n",
       "    <tr style=\"text-align: right;\">\n",
       "      <th></th>\n",
       "      <th>delt</th>\n",
       "      <th>sortt</th>\n",
       "    </tr>\n",
       "  </thead>\n",
       "  <tbody>\n",
       "    <tr>\n",
       "      <th>0</th>\n",
       "      <td>21.00</td>\n",
       "      <td>10</td>\n",
       "    </tr>\n",
       "    <tr>\n",
       "      <th>1</th>\n",
       "      <td>13.50</td>\n",
       "      <td>4</td>\n",
       "    </tr>\n",
       "    <tr>\n",
       "      <th>2</th>\n",
       "      <td>19.75</td>\n",
       "      <td>6</td>\n",
       "    </tr>\n",
       "    <tr>\n",
       "      <th>3</th>\n",
       "      <td>24.00</td>\n",
       "      <td>9</td>\n",
       "    </tr>\n",
       "    <tr>\n",
       "      <th>4</th>\n",
       "      <td>29.00</td>\n",
       "      <td>10</td>\n",
       "    </tr>\n",
       "    <tr>\n",
       "      <th>5</th>\n",
       "      <td>15.35</td>\n",
       "      <td>6</td>\n",
       "    </tr>\n",
       "    <tr>\n",
       "      <th>6</th>\n",
       "      <td>19.00</td>\n",
       "      <td>7</td>\n",
       "    </tr>\n",
       "    <tr>\n",
       "      <th>7</th>\n",
       "      <td>9.50</td>\n",
       "      <td>3</td>\n",
       "    </tr>\n",
       "    <tr>\n",
       "      <th>8</th>\n",
       "      <td>17.90</td>\n",
       "      <td>10</td>\n",
       "    </tr>\n",
       "    <tr>\n",
       "      <th>9</th>\n",
       "      <td>18.75</td>\n",
       "      <td>9</td>\n",
       "    </tr>\n",
       "  </tbody>\n",
       "</table>\n",
       "</div>"
      ],
      "text/plain": [
       "    delt  sortt\n",
       "0  21.00     10\n",
       "1  13.50      4\n",
       "2  19.75      6\n",
       "3  24.00      9\n",
       "4  29.00     10\n",
       "5  15.35      6\n",
       "6  19.00      7\n",
       "7   9.50      3\n",
       "8  17.90     10\n",
       "9  18.75      9"
      ]
     },
     "execution_count": 6,
     "metadata": {},
     "output_type": "execute_result"
    }
   ],
   "source": [
    "DevT.head(10)"
   ]
  },
  {
   "cell_type": "code",
   "execution_count": 7,
   "id": "c4969663",
   "metadata": {},
   "outputs": [
    {
     "data": {
      "text/plain": [
       "Text(0, 0.5, 'Delivery Time')"
      ]
     },
     "execution_count": 7,
     "metadata": {},
     "output_type": "execute_result"
    },
    {
     "data": {
      "image/png": "[encoded data removed]",
      "text/plain": [
       "<Figure size 720x360 with 1 Axes>"
      ]
     },
     "metadata": {},
     "output_type": "display_data"
    }
   ],
   "source": [
    "plt.figure(figsize=(10,5),facecolor=\"lightblue\")\n",
    "plt.scatter(DevT.sortt,DevT.delt,facecolor='green',edgecolor='red')\n",
    "plt.xlabel('Sorting Time')\n",
    "plt.ylabel('Delivery Time')"
   ]
  },
  {
   "cell_type": "code",
   "execution_count": 8,
   "id": "2332006b",
   "metadata": {},
   "outputs": [
    {
     "data": {
      "text/html": [
       "<div>\n",
       "<style scoped>\n",
       "    .dataframe tbody tr th:only-of-type {\n",
       "        vertical-align: middle;\n",
       "    }\n",
       "\n",
       "    .dataframe tbody tr th {\n",
       "        vertical-align: top;\n",
       "    }\n",
       "\n",
       "    .dataframe thead th {\n",
       "        text-align: right;\n",
       "    }\n",
       "</style>\n",
       "<table border=\"1\" class=\"dataframe\">\n",
       "  <thead>\n",
       "    <tr style=\"text-align: right;\">\n",
       "      <th></th>\n",
       "      <th>delt</th>\n",
       "      <th>sortt</th>\n",
       "    </tr>\n",
       "  </thead>\n",
       "  <tbody>\n",
       "    <tr>\n",
       "      <th>delt</th>\n",
       "      <td>1.000000</td>\n",
       "      <td>0.825997</td>\n",
       "    </tr>\n",
       "    <tr>\n",
       "      <th>sortt</th>\n",
       "      <td>0.825997</td>\n",
       "      <td>1.000000</td>\n",
       "    </tr>\n",
       "  </tbody>\n",
       "</table>\n",
       "</div>"
      ],
      "text/plain": [
       "           delt     sortt\n",
       "delt   1.000000  0.825997\n",
       "sortt  0.825997  1.000000"
      ]
     },
     "execution_count": 8,
     "metadata": {},
     "output_type": "execute_result"
    }
   ],
   "source": [
    "DevT.corr()"
   ]
  },
  {
   "cell_type": "code",
   "execution_count": 9,
   "id": "da55c95a",
   "metadata": {},
   "outputs": [
    {
     "data": {
      "text/plain": [
       "LinearRegression()"
      ]
     },
     "execution_count": 9,
     "metadata": {},
     "output_type": "execute_result"
    }
   ],
   "source": [
    "ln=LinearRegression()\n",
    "X=DevT[['sortt']]\n",
    "Y=DevT[['delt']]\n",
    "ln.fit(X,Y)"
   ]
  },
  {
   "cell_type": "code",
   "execution_count": 10,
   "id": "5c60d3cd",
   "metadata": {},
   "outputs": [
    {
     "data": {
      "text/plain": [
       "array([6.58273397])"
      ]
     },
     "execution_count": 10,
     "metadata": {},
     "output_type": "execute_result"
    }
   ],
   "source": [
    "ln.intercept_"
   ]
  },
  {
   "cell_type": "code",
   "execution_count": 11,
   "id": "a2d2c0fd",
   "metadata": {},
   "outputs": [
    {
     "data": {
      "text/plain": [
       "array([[1.6490199]])"
      ]
     },
     "execution_count": 11,
     "metadata": {},
     "output_type": "execute_result"
    }
   ],
   "source": [
    "ln.coef_"
   ]
  },
  {
   "cell_type": "code",
   "execution_count": 12,
   "id": "cebc9c3d",
   "metadata": {},
   "outputs": [
    {
     "data": {
      "text/plain": [
       "array([[23.07293294],\n",
       "       [13.17881356],\n",
       "       [16.47685335],\n",
       "       [21.42391304],\n",
       "       [23.07293294],\n",
       "       [16.47685335],\n",
       "       [18.12587325],\n",
       "       [11.52979366],\n",
       "       [23.07293294],\n",
       "       [21.42391304],\n",
       "       [19.77489315],\n",
       "       [13.17881356],\n",
       "       [18.12587325],\n",
       "       [11.52979366],\n",
       "       [11.52979366],\n",
       "       [13.17881356],\n",
       "       [16.47685335],\n",
       "       [18.12587325],\n",
       "       [ 9.88077377],\n",
       "       [18.12587325],\n",
       "       [14.82783346]])"
      ]
     },
     "execution_count": 12,
     "metadata": {},
     "output_type": "execute_result"
    }
   ],
   "source": [
    "ln.predict(X)"
   ]
  },
  {
   "cell_type": "code",
   "execution_count": 13,
   "id": "ad4c1047",
   "metadata": {},
   "outputs": [
    {
     "data": {
      "text/plain": [
       "Text(0, 0.5, 'Delivery Time')"
      ]
     },
     "execution_count": 13,
     "metadata": {},
     "output_type": "execute_result"
    },
    {
     "data": {
      "image/png": "[encoded data removed]",
      "text/plain": [
       "<Figure size 720x360 with 1 Axes>"
      ]
     },
     "metadata": {},
     "output_type": "display_data"
    }
   ],
   "source": [
    "plt.figure(figsize=(10,5),facecolor=\"lightblue\")\n",
    "plt.scatter(DevT.sortt,DevT.delt,facecolor='black')\n",
    "plt.plot(DevT.sortt,ln.predict(X),color=\"red\")\n",
    "plt.xlabel('Sorting Time')\n",
    "plt.ylabel('Delivery Time')"
   ]
  },
  {
   "cell_type": "markdown",
   "id": "e5e3f020",
   "metadata": {},
   "source": [
    "# Model Validation "
   ]
  },
  {
   "cell_type": "code",
   "execution_count": 14,
   "id": "2b0ab231",
   "metadata": {},
   "outputs": [
    {
     "data": {
      "text/plain": [
       "0.6822714748417231"
      ]
     },
     "execution_count": 14,
     "metadata": {},
     "output_type": "execute_result"
    }
   ],
   "source": [
    "pred_val=ln.predict(X)\n",
    "r2_score(DevT.delt,pred_val)"
   ]
  },
  {
   "cell_type": "markdown",
   "id": "93bf4623",
   "metadata": {},
   "source": [
    "# R value is 0.682,so its good fit but there will be some chances of imrovement "
   ]
  },
  {
   "cell_type": "markdown",
   "id": "fe950829",
   "metadata": {},
   "source": [
    "# Prediction Model for Salry hike"
   ]
  },
  {
   "cell_type": "code",
   "execution_count": 16,
   "id": "286c5993",
   "metadata": {},
   "outputs": [],
   "source": [
    "SalH=pd.read_csv(\"Salary_Data.csv\")"
   ]
  },
  {
   "cell_type": "code",
   "execution_count": 17,
   "id": "f0859c06",
   "metadata": {},
   "outputs": [
    {
     "data": {
      "text/plain": [
       "(30, 2)"
      ]
     },
     "execution_count": 17,
     "metadata": {},
     "output_type": "execute_result"
    }
   ],
   "source": [
    "SalH.shape"
   ]
  },
  {
   "cell_type": "code",
   "execution_count": 18,
   "id": "fd3b05c4",
   "metadata": {},
   "outputs": [
    {
     "data": {
      "text/html": [
       "<div>\n",
       "<style scoped>\n",
       "    .dataframe tbody tr th:only-of-type {\n",
       "        vertical-align: middle;\n",
       "    }\n",
       "\n",
       "    .dataframe tbody tr th {\n",
       "        vertical-align: top;\n",
       "    }\n",
       "\n",
       "    .dataframe thead th {\n",
       "        text-align: right;\n",
       "    }\n",
       "</style>\n",
       "<table border=\"1\" class=\"dataframe\">\n",
       "  <thead>\n",
       "    <tr style=\"text-align: right;\">\n",
       "      <th></th>\n",
       "      <th>YearsExperience</th>\n",
       "      <th>Salary</th>\n",
       "    </tr>\n",
       "  </thead>\n",
       "  <tbody>\n",
       "    <tr>\n",
       "      <th>0</th>\n",
       "      <td>1.1</td>\n",
       "      <td>39343.0</td>\n",
       "    </tr>\n",
       "    <tr>\n",
       "      <th>1</th>\n",
       "      <td>1.3</td>\n",
       "      <td>46205.0</td>\n",
       "    </tr>\n",
       "    <tr>\n",
       "      <th>2</th>\n",
       "      <td>1.5</td>\n",
       "      <td>37731.0</td>\n",
       "    </tr>\n",
       "    <tr>\n",
       "      <th>3</th>\n",
       "      <td>2.0</td>\n",
       "      <td>43525.0</td>\n",
       "    </tr>\n",
       "    <tr>\n",
       "      <th>4</th>\n",
       "      <td>2.2</td>\n",
       "      <td>39891.0</td>\n",
       "    </tr>\n",
       "    <tr>\n",
       "      <th>5</th>\n",
       "      <td>2.9</td>\n",
       "      <td>56642.0</td>\n",
       "    </tr>\n",
       "    <tr>\n",
       "      <th>6</th>\n",
       "      <td>3.0</td>\n",
       "      <td>60150.0</td>\n",
       "    </tr>\n",
       "    <tr>\n",
       "      <th>7</th>\n",
       "      <td>3.2</td>\n",
       "      <td>54445.0</td>\n",
       "    </tr>\n",
       "    <tr>\n",
       "      <th>8</th>\n",
       "      <td>3.2</td>\n",
       "      <td>64445.0</td>\n",
       "    </tr>\n",
       "    <tr>\n",
       "      <th>9</th>\n",
       "      <td>3.7</td>\n",
       "      <td>57189.0</td>\n",
       "    </tr>\n",
       "  </tbody>\n",
       "</table>\n",
       "</div>"
      ],
      "text/plain": [
       "   YearsExperience   Salary\n",
       "0              1.1  39343.0\n",
       "1              1.3  46205.0\n",
       "2              1.5  37731.0\n",
       "3              2.0  43525.0\n",
       "4              2.2  39891.0\n",
       "5              2.9  56642.0\n",
       "6              3.0  60150.0\n",
       "7              3.2  54445.0\n",
       "8              3.2  64445.0\n",
       "9              3.7  57189.0"
      ]
     },
     "execution_count": 18,
     "metadata": {},
     "output_type": "execute_result"
    }
   ],
   "source": [
    "SalH.head(10)"
   ]
  },
  {
   "cell_type": "code",
   "execution_count": 19,
   "id": "32b477a1",
   "metadata": {},
   "outputs": [],
   "source": [
    "SalH.columns=['yexp','sal']\n"
   ]
  },
  {
   "cell_type": "code",
   "execution_count": 20,
   "id": "25888f3c",
   "metadata": {},
   "outputs": [
    {
     "data": {
      "text/html": [
       "<div>\n",
       "<style scoped>\n",
       "    .dataframe tbody tr th:only-of-type {\n",
       "        vertical-align: middle;\n",
       "    }\n",
       "\n",
       "    .dataframe tbody tr th {\n",
       "        vertical-align: top;\n",
       "    }\n",
       "\n",
       "    .dataframe thead th {\n",
       "        text-align: right;\n",
       "    }\n",
       "</style>\n",
       "<table border=\"1\" class=\"dataframe\">\n",
       "  <thead>\n",
       "    <tr style=\"text-align: right;\">\n",
       "      <th></th>\n",
       "      <th>yexp</th>\n",
       "      <th>sal</th>\n",
       "    </tr>\n",
       "  </thead>\n",
       "  <tbody>\n",
       "    <tr>\n",
       "      <th>0</th>\n",
       "      <td>1.1</td>\n",
       "      <td>39343.0</td>\n",
       "    </tr>\n",
       "    <tr>\n",
       "      <th>1</th>\n",
       "      <td>1.3</td>\n",
       "      <td>46205.0</td>\n",
       "    </tr>\n",
       "    <tr>\n",
       "      <th>2</th>\n",
       "      <td>1.5</td>\n",
       "      <td>37731.0</td>\n",
       "    </tr>\n",
       "    <tr>\n",
       "      <th>3</th>\n",
       "      <td>2.0</td>\n",
       "      <td>43525.0</td>\n",
       "    </tr>\n",
       "    <tr>\n",
       "      <th>4</th>\n",
       "      <td>2.2</td>\n",
       "      <td>39891.0</td>\n",
       "    </tr>\n",
       "    <tr>\n",
       "      <th>5</th>\n",
       "      <td>2.9</td>\n",
       "      <td>56642.0</td>\n",
       "    </tr>\n",
       "    <tr>\n",
       "      <th>6</th>\n",
       "      <td>3.0</td>\n",
       "      <td>60150.0</td>\n",
       "    </tr>\n",
       "    <tr>\n",
       "      <th>7</th>\n",
       "      <td>3.2</td>\n",
       "      <td>54445.0</td>\n",
       "    </tr>\n",
       "    <tr>\n",
       "      <th>8</th>\n",
       "      <td>3.2</td>\n",
       "      <td>64445.0</td>\n",
       "    </tr>\n",
       "    <tr>\n",
       "      <th>9</th>\n",
       "      <td>3.7</td>\n",
       "      <td>57189.0</td>\n",
       "    </tr>\n",
       "  </tbody>\n",
       "</table>\n",
       "</div>"
      ],
      "text/plain": [
       "   yexp      sal\n",
       "0   1.1  39343.0\n",
       "1   1.3  46205.0\n",
       "2   1.5  37731.0\n",
       "3   2.0  43525.0\n",
       "4   2.2  39891.0\n",
       "5   2.9  56642.0\n",
       "6   3.0  60150.0\n",
       "7   3.2  54445.0\n",
       "8   3.2  64445.0\n",
       "9   3.7  57189.0"
      ]
     },
     "execution_count": 20,
     "metadata": {},
     "output_type": "execute_result"
    }
   ],
   "source": [
    "SalH.head(10)"
   ]
  },
  {
   "cell_type": "code",
   "execution_count": 21,
   "id": "65f32713",
   "metadata": {},
   "outputs": [
    {
     "data": {
      "text/plain": [
       "Text(0, 0.5, 'Salary')"
      ]
     },
     "execution_count": 21,
     "metadata": {},
     "output_type": "execute_result"
    },
    {
     "data": {
      "image/png": "[encoded data removed]",
      "text/plain": [
       "<Figure size 720x432 with 1 Axes>"
      ]
     },
     "metadata": {},
     "output_type": "display_data"
    }
   ],
   "source": [
    "plt.figure(figsize=(10,6),facecolor='lightpink')\n",
    "plt.scatter(SalH.yexp,SalH.sal,facecolor='green')\n",
    "plt.xlabel(\"Experience (Year)\")\n",
    "plt.ylabel(\"Salary\")\n"
   ]
  },
  {
   "cell_type": "code",
   "execution_count": 22,
   "id": "6dc5f4a8",
   "metadata": {},
   "outputs": [
    {
     "data": {
      "text/html": [
       "<div>\n",
       "<style scoped>\n",
       "    .dataframe tbody tr th:only-of-type {\n",
       "        vertical-align: middle;\n",
       "    }\n",
       "\n",
       "    .dataframe tbody tr th {\n",
       "        vertical-align: top;\n",
       "    }\n",
       "\n",
       "    .dataframe thead th {\n",
       "        text-align: right;\n",
       "    }\n",
       "</style>\n",
       "<table border=\"1\" class=\"dataframe\">\n",
       "  <thead>\n",
       "    <tr style=\"text-align: right;\">\n",
       "      <th></th>\n",
       "      <th>yexp</th>\n",
       "      <th>sal</th>\n",
       "    </tr>\n",
       "  </thead>\n",
       "  <tbody>\n",
       "    <tr>\n",
       "      <th>yexp</th>\n",
       "      <td>1.000000</td>\n",
       "      <td>0.978242</td>\n",
       "    </tr>\n",
       "    <tr>\n",
       "      <th>sal</th>\n",
       "      <td>0.978242</td>\n",
       "      <td>1.000000</td>\n",
       "    </tr>\n",
       "  </tbody>\n",
       "</table>\n",
       "</div>"
      ],
      "text/plain": [
       "          yexp       sal\n",
       "yexp  1.000000  0.978242\n",
       "sal   0.978242  1.000000"
      ]
     },
     "execution_count": 22,
     "metadata": {},
     "output_type": "execute_result"
    }
   ],
   "source": [
    "SalH.corr()"
   ]
  },
  {
   "cell_type": "code",
   "execution_count": 23,
   "id": "a091b6ff",
   "metadata": {},
   "outputs": [
    {
     "data": {
      "text/plain": [
       "LinearRegression()"
      ]
     },
     "execution_count": 23,
     "metadata": {},
     "output_type": "execute_result"
    }
   ],
   "source": [
    "lr=LinearRegression()\n",
    "X1=SalH[['yexp']]\n",
    "Y=SalH[['sal']]\n",
    "lr.fit(X1,Y)"
   ]
  },
  {
   "cell_type": "code",
   "execution_count": 24,
   "id": "affffb00",
   "metadata": {},
   "outputs": [
    {
     "data": {
      "text/plain": [
       "array([[9449.96232146]])"
      ]
     },
     "execution_count": 24,
     "metadata": {},
     "output_type": "execute_result"
    }
   ],
   "source": [
    "lr.coef_"
   ]
  },
  {
   "cell_type": "code",
   "execution_count": 25,
   "id": "eadd11ae",
   "metadata": {},
   "outputs": [
    {
     "data": {
      "text/plain": [
       "array([25792.20019867])"
      ]
     },
     "execution_count": 25,
     "metadata": {},
     "output_type": "execute_result"
    }
   ],
   "source": [
    "lr.intercept_"
   ]
  },
  {
   "cell_type": "code",
   "execution_count": 26,
   "id": "7d09b359",
   "metadata": {},
   "outputs": [
    {
     "data": {
      "text/plain": [
       "[<matplotlib.lines.Line2D at 0x7f9488286c70>]"
      ]
     },
     "execution_count": 26,
     "metadata": {},
     "output_type": "execute_result"
    },
    {
     "data": {
      "image/png": "[encoded data removed]",
      "text/plain": [
       "<Figure size 720x432 with 1 Axes>"
      ]
     },
     "metadata": {},
     "output_type": "display_data"
    }
   ],
   "source": [
    "pre=lr.predict(X1)\n",
    "plt.figure(figsize=(10,6),facecolor=\"lightpink\")\n",
    "plt.scatter(SalH.yexp,SalH.sal,facecolor='black')\n",
    "\n",
    "plt.plot(SalH.yexp,pre,color='blue')\n"
   ]
  },
  {
   "cell_type": "code",
   "execution_count": 30,
   "id": "11153be4",
   "metadata": {},
   "outputs": [
    {
     "data": {
      "text/plain": [
       "0.9569566641435086"
      ]
     },
     "execution_count": 30,
     "metadata": {},
     "output_type": "execute_result"
    }
   ],
   "source": [
    "a=lr.predict(X1)\n",
    "R_value=r2_score(SalH.sal,a)\n",
    "R_value"
   ]
  },
  {
   "cell_type": "markdown",
   "id": "64cec0a6",
   "metadata": {},
   "source": [
    "# the above model gave R value 0.956 which is very close to 1 so above model is best fit for predicting Salary Hike "
   ]
  },
  {
   "cell_type": "markdown",
   "id": "36b69749",
   "metadata": {},
   "source": [
    "# model for sorting time and delivery time with statsmodels"
   ]
  },
  {
   "cell_type": "code",
   "execution_count": 28,
   "id": "60e86f49",
   "metadata": {},
   "outputs": [],
   "source": [
    "mymodel=smf.ols(\"delt~sortt\",data=DevT).fit()"
   ]
  },
  {
   "cell_type": "code",
   "execution_count": 29,
   "id": "cb79541e",
   "metadata": {},
   "outputs": [
    {
     "data": {
      "text/plain": [
       "Intercept    6.582734\n",
       "sortt        1.649020\n",
       "dtype: float64"
      ]
     },
     "execution_count": 29,
     "metadata": {},
     "output_type": "execute_result"
    }
   ],
   "source": [
    "mymodel.params"
   ]
  },
  {
   "cell_type": "code",
   "execution_count": 30,
   "id": "bc8c99a6",
   "metadata": {},
   "outputs": [
    {
     "data": {
      "text/html": [
       "<table class=\"simpletable\">\n",
       "<caption>OLS Regression Results</caption>\n",
       "<tr>\n",
       "  <th>Dep. Variable:</th>          <td>delt</td>       <th>  R-squared:         </th> <td>   0.682</td>\n",
       "</tr>\n",
       "<tr>\n",
       "  <th>Model:</th>                   <td>OLS</td>       <th>  Adj. R-squared:    </th> <td>   0.666</td>\n",
       "</tr>\n",
       "<tr>\n",
       "  <th>Method:</th>             <td>Least Squares</td>  <th>  F-statistic:       </th> <td>   40.80</td>\n",
       "</tr>\n",
       "<tr>\n",
       "  <th>Date:</th>             <td>Mon, 28 Feb 2022</td> <th>  Prob (F-statistic):</th> <td>3.98e-06</td>\n",
       "</tr>\n",
       "<tr>\n",
       "  <th>Time:</th>                 <td>12:51:12</td>     <th>  Log-Likelihood:    </th> <td> -51.357</td>\n",
       "</tr>\n",
       "<tr>\n",
       "  <th>No. Observations:</th>      <td>    21</td>      <th>  AIC:               </th> <td>   106.7</td>\n",
       "</tr>\n",
       "<tr>\n",
       "  <th>Df Residuals:</th>          <td>    19</td>      <th>  BIC:               </th> <td>   108.8</td>\n",
       "</tr>\n",
       "<tr>\n",
       "  <th>Df Model:</th>              <td>     1</td>      <th>                     </th>     <td> </td>   \n",
       "</tr>\n",
       "<tr>\n",
       "  <th>Covariance Type:</th>      <td>nonrobust</td>    <th>                     </th>     <td> </td>   \n",
       "</tr>\n",
       "</table>\n",
       "<table class=\"simpletable\">\n",
       "<tr>\n",
       "      <td></td>         <th>coef</th>     <th>std err</th>      <th>t</th>      <th>P>|t|</th>  <th>[0.025</th>    <th>0.975]</th>  \n",
       "</tr>\n",
       "<tr>\n",
       "  <th>Intercept</th> <td>    6.5827</td> <td>    1.722</td> <td>    3.823</td> <td> 0.001</td> <td>    2.979</td> <td>   10.186</td>\n",
       "</tr>\n",
       "<tr>\n",
       "  <th>sortt</th>     <td>    1.6490</td> <td>    0.258</td> <td>    6.387</td> <td> 0.000</td> <td>    1.109</td> <td>    2.189</td>\n",
       "</tr>\n",
       "</table>\n",
       "<table class=\"simpletable\">\n",
       "<tr>\n",
       "  <th>Omnibus:</th>       <td> 3.649</td> <th>  Durbin-Watson:     </th> <td>   1.248</td>\n",
       "</tr>\n",
       "<tr>\n",
       "  <th>Prob(Omnibus):</th> <td> 0.161</td> <th>  Jarque-Bera (JB):  </th> <td>   2.086</td>\n",
       "</tr>\n",
       "<tr>\n",
       "  <th>Skew:</th>          <td> 0.750</td> <th>  Prob(JB):          </th> <td>   0.352</td>\n",
       "</tr>\n",
       "<tr>\n",
       "  <th>Kurtosis:</th>      <td> 3.367</td> <th>  Cond. No.          </th> <td>    18.3</td>\n",
       "</tr>\n",
       "</table><br/><br/>Notes:<br/>[1] Standard Errors assume that the covariance matrix of the errors is correctly specified."
      ],
      "text/plain": [
       "<class 'statsmodels.iolib.summary.Summary'>\n",
       "\"\"\"\n",
       "                            OLS Regression Results                            \n",
       "==============================================================================\n",
       "Dep. Variable:                   delt   R-squared:                       0.682\n",
       "Model:                            OLS   Adj. R-squared:                  0.666\n",
       "Method:                 Least Squares   F-statistic:                     40.80\n",
       "Date:                Mon, 28 Feb 2022   Prob (F-statistic):           3.98e-06\n",
       "Time:                        12:51:12   Log-Likelihood:                -51.357\n",
       "No. Observations:                  21   AIC:                             106.7\n",
       "Df Residuals:                      19   BIC:                             108.8\n",
       "Df Model:                           1                                         \n",
       "Covariance Type:            nonrobust                                         \n",
       "==============================================================================\n",
       "                 coef    std err          t      P>|t|      [0.025      0.975]\n",
       "------------------------------------------------------------------------------\n",
       "Intercept      6.5827      1.722      3.823      0.001       2.979      10.186\n",
       "sortt          1.6490      0.258      6.387      0.000       1.109       2.189\n",
       "==============================================================================\n",
       "Omnibus:                        3.649   Durbin-Watson:                   1.248\n",
       "Prob(Omnibus):                  0.161   Jarque-Bera (JB):                2.086\n",
       "Skew:                           0.750   Prob(JB):                        0.352\n",
       "Kurtosis:                       3.367   Cond. No.                         18.3\n",
       "==============================================================================\n",
       "\n",
       "Notes:\n",
       "[1] Standard Errors assume that the covariance matrix of the errors is correctly specified.\n",
       "\"\"\""
      ]
     },
     "execution_count": 30,
     "metadata": {},
     "output_type": "execute_result"
    }
   ],
   "source": [
    "mymodel.summary()"
   ]
  },
  {
   "cell_type": "code",
   "execution_count": 33,
   "id": "9a3a218b",
   "metadata": {},
   "outputs": [
    {
     "data": {
      "text/html": [
       "<table class=\"simpletable\">\n",
       "<caption>OLS Regression Results</caption>\n",
       "<tr>\n",
       "  <th>Dep. Variable:</th>          <td>sortt</td>      <th>  R-squared:         </th> <td>   0.711</td>\n",
       "</tr>\n",
       "<tr>\n",
       "  <th>Model:</th>                   <td>OLS</td>       <th>  Adj. R-squared:    </th> <td>   0.696</td>\n",
       "</tr>\n",
       "<tr>\n",
       "  <th>Method:</th>             <td>Least Squares</td>  <th>  F-statistic:       </th> <td>   46.73</td>\n",
       "</tr>\n",
       "<tr>\n",
       "  <th>Date:</th>             <td>Mon, 28 Feb 2022</td> <th>  Prob (F-statistic):</th> <td>1.59e-06</td>\n",
       "</tr>\n",
       "<tr>\n",
       "  <th>Time:</th>                 <td>12:52:21</td>     <th>  Log-Likelihood:    </th> <td> -35.846</td>\n",
       "</tr>\n",
       "<tr>\n",
       "  <th>No. Observations:</th>      <td>    21</td>      <th>  AIC:               </th> <td>   75.69</td>\n",
       "</tr>\n",
       "<tr>\n",
       "  <th>Df Residuals:</th>          <td>    19</td>      <th>  BIC:               </th> <td>   77.78</td>\n",
       "</tr>\n",
       "<tr>\n",
       "  <th>Df Model:</th>              <td>     1</td>      <th>                     </th>     <td> </td>   \n",
       "</tr>\n",
       "<tr>\n",
       "  <th>Covariance Type:</th>      <td>nonrobust</td>    <th>                     </th>     <td> </td>   \n",
       "</tr>\n",
       "</table>\n",
       "<table class=\"simpletable\">\n",
       "<tr>\n",
       "        <td></td>          <th>coef</th>     <th>std err</th>      <th>t</th>      <th>P>|t|</th>  <th>[0.025</th>    <th>0.975]</th>  \n",
       "</tr>\n",
       "<tr>\n",
       "  <th>Intercept</th>    <td>  -12.4992</td> <td>    2.751</td> <td>   -4.543</td> <td> 0.000</td> <td>  -18.257</td> <td>   -6.741</td>\n",
       "</tr>\n",
       "<tr>\n",
       "  <th>np.log(delt)</th> <td>    6.7355</td> <td>    0.985</td> <td>    6.836</td> <td> 0.000</td> <td>    4.673</td> <td>    8.798</td>\n",
       "</tr>\n",
       "</table>\n",
       "<table class=\"simpletable\">\n",
       "<tr>\n",
       "  <th>Omnibus:</th>       <td> 1.323</td> <th>  Durbin-Watson:     </th> <td>   1.202</td>\n",
       "</tr>\n",
       "<tr>\n",
       "  <th>Prob(Omnibus):</th> <td> 0.516</td> <th>  Jarque-Bera (JB):  </th> <td>   0.242</td>\n",
       "</tr>\n",
       "<tr>\n",
       "  <th>Skew:</th>          <td>-0.025</td> <th>  Prob(JB):          </th> <td>   0.886</td>\n",
       "</tr>\n",
       "<tr>\n",
       "  <th>Kurtosis:</th>      <td> 3.523</td> <th>  Cond. No.          </th> <td>    28.3</td>\n",
       "</tr>\n",
       "</table><br/><br/>Notes:<br/>[1] Standard Errors assume that the covariance matrix of the errors is correctly specified."
      ],
      "text/plain": [
       "<class 'statsmodels.iolib.summary.Summary'>\n",
       "\"\"\"\n",
       "                            OLS Regression Results                            \n",
       "==============================================================================\n",
       "Dep. Variable:                  sortt   R-squared:                       0.711\n",
       "Model:                            OLS   Adj. R-squared:                  0.696\n",
       "Method:                 Least Squares   F-statistic:                     46.73\n",
       "Date:                Mon, 28 Feb 2022   Prob (F-statistic):           1.59e-06\n",
       "Time:                        12:52:21   Log-Likelihood:                -35.846\n",
       "No. Observations:                  21   AIC:                             75.69\n",
       "Df Residuals:                      19   BIC:                             77.78\n",
       "Df Model:                           1                                         \n",
       "Covariance Type:            nonrobust                                         \n",
       "================================================================================\n",
       "                   coef    std err          t      P>|t|      [0.025      0.975]\n",
       "--------------------------------------------------------------------------------\n",
       "Intercept      -12.4992      2.751     -4.543      0.000     -18.257      -6.741\n",
       "np.log(delt)     6.7355      0.985      6.836      0.000       4.673       8.798\n",
       "==============================================================================\n",
       "Omnibus:                        1.323   Durbin-Watson:                   1.202\n",
       "Prob(Omnibus):                  0.516   Jarque-Bera (JB):                0.242\n",
       "Skew:                          -0.025   Prob(JB):                        0.886\n",
       "Kurtosis:                       3.523   Cond. No.                         28.3\n",
       "==============================================================================\n",
       "\n",
       "Notes:\n",
       "[1] Standard Errors assume that the covariance matrix of the errors is correctly specified.\n",
       "\"\"\""
      ]
     },
     "execution_count": 33,
     "metadata": {},
     "output_type": "execute_result"
    }
   ],
   "source": [
    "mymodel2=smf.ols('sortt~np.log(delt)',data=DevT).fit()\n",
    "mymodel2.summary()"
   ]
  },
  {
   "cell_type": "code",
   "execution_count": 34,
   "id": "b7dd4c90",
   "metadata": {},
   "outputs": [
    {
     "data": {
      "text/html": [
       "<table class=\"simpletable\">\n",
       "<caption>OLS Regression Results</caption>\n",
       "<tr>\n",
       "  <th>Dep. Variable:</th>      <td>np.log(sortt)</td>  <th>  R-squared:         </th> <td>   0.695</td>\n",
       "</tr>\n",
       "<tr>\n",
       "  <th>Model:</th>                   <td>OLS</td>       <th>  Adj. R-squared:    </th> <td>   0.679</td>\n",
       "</tr>\n",
       "<tr>\n",
       "  <th>Method:</th>             <td>Least Squares</td>  <th>  F-statistic:       </th> <td>   43.39</td>\n",
       "</tr>\n",
       "<tr>\n",
       "  <th>Date:</th>             <td>Mon, 28 Feb 2022</td> <th>  Prob (F-statistic):</th> <td>2.64e-06</td>\n",
       "</tr>\n",
       "<tr>\n",
       "  <th>Time:</th>                 <td>12:52:21</td>     <th>  Log-Likelihood:    </th> <td>-0.85600</td>\n",
       "</tr>\n",
       "<tr>\n",
       "  <th>No. Observations:</th>      <td>    21</td>      <th>  AIC:               </th> <td>   5.712</td>\n",
       "</tr>\n",
       "<tr>\n",
       "  <th>Df Residuals:</th>          <td>    19</td>      <th>  BIC:               </th> <td>   7.801</td>\n",
       "</tr>\n",
       "<tr>\n",
       "  <th>Df Model:</th>              <td>     1</td>      <th>                     </th>     <td> </td>   \n",
       "</tr>\n",
       "<tr>\n",
       "  <th>Covariance Type:</th>      <td>nonrobust</td>    <th>                     </th>     <td> </td>   \n",
       "</tr>\n",
       "</table>\n",
       "<table class=\"simpletable\">\n",
       "<tr>\n",
       "      <td></td>         <th>coef</th>     <th>std err</th>      <th>t</th>      <th>P>|t|</th>  <th>[0.025</th>    <th>0.975]</th>  \n",
       "</tr>\n",
       "<tr>\n",
       "  <th>Intercept</th> <td>    0.4372</td> <td>    0.204</td> <td>    2.139</td> <td> 0.046</td> <td>    0.009</td> <td>    0.865</td>\n",
       "</tr>\n",
       "<tr>\n",
       "  <th>delt</th>      <td>    0.0769</td> <td>    0.012</td> <td>    6.587</td> <td> 0.000</td> <td>    0.052</td> <td>    0.101</td>\n",
       "</tr>\n",
       "</table>\n",
       "<table class=\"simpletable\">\n",
       "<tr>\n",
       "  <th>Omnibus:</th>       <td> 0.744</td> <th>  Durbin-Watson:     </th> <td>   1.691</td>\n",
       "</tr>\n",
       "<tr>\n",
       "  <th>Prob(Omnibus):</th> <td> 0.689</td> <th>  Jarque-Bera (JB):  </th> <td>   0.686</td>\n",
       "</tr>\n",
       "<tr>\n",
       "  <th>Skew:</th>          <td>-0.101</td> <th>  Prob(JB):          </th> <td>   0.710</td>\n",
       "</tr>\n",
       "<tr>\n",
       "  <th>Kurtosis:</th>      <td> 2.138</td> <th>  Cond. No.          </th> <td>    62.1</td>\n",
       "</tr>\n",
       "</table><br/><br/>Notes:<br/>[1] Standard Errors assume that the covariance matrix of the errors is correctly specified."
      ],
      "text/plain": [
       "<class 'statsmodels.iolib.summary.Summary'>\n",
       "\"\"\"\n",
       "                            OLS Regression Results                            \n",
       "==============================================================================\n",
       "Dep. Variable:          np.log(sortt)   R-squared:                       0.695\n",
       "Model:                            OLS   Adj. R-squared:                  0.679\n",
       "Method:                 Least Squares   F-statistic:                     43.39\n",
       "Date:                Mon, 28 Feb 2022   Prob (F-statistic):           2.64e-06\n",
       "Time:                        12:52:21   Log-Likelihood:               -0.85600\n",
       "No. Observations:                  21   AIC:                             5.712\n",
       "Df Residuals:                      19   BIC:                             7.801\n",
       "Df Model:                           1                                         \n",
       "Covariance Type:            nonrobust                                         \n",
       "==============================================================================\n",
       "                 coef    std err          t      P>|t|      [0.025      0.975]\n",
       "------------------------------------------------------------------------------\n",
       "Intercept      0.4372      0.204      2.139      0.046       0.009       0.865\n",
       "delt           0.0769      0.012      6.587      0.000       0.052       0.101\n",
       "==============================================================================\n",
       "Omnibus:                        0.744   Durbin-Watson:                   1.691\n",
       "Prob(Omnibus):                  0.689   Jarque-Bera (JB):                0.686\n",
       "Skew:                          -0.101   Prob(JB):                        0.710\n",
       "Kurtosis:                       2.138   Cond. No.                         62.1\n",
       "==============================================================================\n",
       "\n",
       "Notes:\n",
       "[1] Standard Errors assume that the covariance matrix of the errors is correctly specified.\n",
       "\"\"\""
      ]
     },
     "execution_count": 34,
     "metadata": {},
     "output_type": "execute_result"
    }
   ],
   "source": [
    "mymodel3=smf.ols('np.log(sortt)~delt',data=DevT).fit()\n",
    "mymodel3.summary()"
   ]
  },
  {
   "cell_type": "code",
   "execution_count": 36,
   "id": "efd30c06",
   "metadata": {},
   "outputs": [
    {
     "data": {
      "text/html": [
       "<table class=\"simpletable\">\n",
       "<caption>OLS Regression Results</caption>\n",
       "<tr>\n",
       "  <th>Dep. Variable:</th>      <td>np.log(delt)</td>   <th>  R-squared:         </th> <td>   0.765</td>\n",
       "</tr>\n",
       "<tr>\n",
       "  <th>Model:</th>                   <td>OLS</td>       <th>  Adj. R-squared:    </th> <td>   0.739</td>\n",
       "</tr>\n",
       "<tr>\n",
       "  <th>Method:</th>             <td>Least Squares</td>  <th>  F-statistic:       </th> <td>   29.28</td>\n",
       "</tr>\n",
       "<tr>\n",
       "  <th>Date:</th>             <td>Mon, 28 Feb 2022</td> <th>  Prob (F-statistic):</th> <td>2.20e-06</td>\n",
       "</tr>\n",
       "<tr>\n",
       "  <th>Time:</th>                 <td>12:58:50</td>     <th>  Log-Likelihood:    </th> <td>  9.9597</td>\n",
       "</tr>\n",
       "<tr>\n",
       "  <th>No. Observations:</th>      <td>    21</td>      <th>  AIC:               </th> <td>  -13.92</td>\n",
       "</tr>\n",
       "<tr>\n",
       "  <th>Df Residuals:</th>          <td>    18</td>      <th>  BIC:               </th> <td>  -10.79</td>\n",
       "</tr>\n",
       "<tr>\n",
       "  <th>Df Model:</th>              <td>     2</td>      <th>                     </th>     <td> </td>   \n",
       "</tr>\n",
       "<tr>\n",
       "  <th>Covariance Type:</th>      <td>nonrobust</td>    <th>                     </th>     <td> </td>   \n",
       "</tr>\n",
       "</table>\n",
       "<table class=\"simpletable\">\n",
       "<tr>\n",
       "      <td></td>         <th>coef</th>     <th>std err</th>      <th>t</th>      <th>P>|t|</th>  <th>[0.025</th>    <th>0.975]</th>  \n",
       "</tr>\n",
       "<tr>\n",
       "  <th>Intercept</th> <td>    1.6997</td> <td>    0.228</td> <td>    7.441</td> <td> 0.000</td> <td>    1.220</td> <td>    2.180</td>\n",
       "</tr>\n",
       "<tr>\n",
       "  <th>sortt</th>     <td>    0.2659</td> <td>    0.080</td> <td>    3.315</td> <td> 0.004</td> <td>    0.097</td> <td>    0.434</td>\n",
       "</tr>\n",
       "<tr>\n",
       "  <th>Sort_sq</th>   <td>   -0.0128</td> <td>    0.006</td> <td>   -2.032</td> <td> 0.057</td> <td>   -0.026</td> <td>    0.000</td>\n",
       "</tr>\n",
       "</table>\n",
       "<table class=\"simpletable\">\n",
       "<tr>\n",
       "  <th>Omnibus:</th>       <td> 2.548</td> <th>  Durbin-Watson:     </th> <td>   1.369</td>\n",
       "</tr>\n",
       "<tr>\n",
       "  <th>Prob(Omnibus):</th> <td> 0.280</td> <th>  Jarque-Bera (JB):  </th> <td>   1.777</td>\n",
       "</tr>\n",
       "<tr>\n",
       "  <th>Skew:</th>          <td> 0.708</td> <th>  Prob(JB):          </th> <td>   0.411</td>\n",
       "</tr>\n",
       "<tr>\n",
       "  <th>Kurtosis:</th>      <td> 2.846</td> <th>  Cond. No.          </th> <td>    373.</td>\n",
       "</tr>\n",
       "</table><br/><br/>Notes:<br/>[1] Standard Errors assume that the covariance matrix of the errors is correctly specified."
      ],
      "text/plain": [
       "<class 'statsmodels.iolib.summary.Summary'>\n",
       "\"\"\"\n",
       "                            OLS Regression Results                            \n",
       "==============================================================================\n",
       "Dep. Variable:           np.log(delt)   R-squared:                       0.765\n",
       "Model:                            OLS   Adj. R-squared:                  0.739\n",
       "Method:                 Least Squares   F-statistic:                     29.28\n",
       "Date:                Mon, 28 Feb 2022   Prob (F-statistic):           2.20e-06\n",
       "Time:                        12:58:50   Log-Likelihood:                 9.9597\n",
       "No. Observations:                  21   AIC:                            -13.92\n",
       "Df Residuals:                      18   BIC:                            -10.79\n",
       "Df Model:                           2                                         \n",
       "Covariance Type:            nonrobust                                         \n",
       "==============================================================================\n",
       "                 coef    std err          t      P>|t|      [0.025      0.975]\n",
       "------------------------------------------------------------------------------\n",
       "Intercept      1.6997      0.228      7.441      0.000       1.220       2.180\n",
       "sortt          0.2659      0.080      3.315      0.004       0.097       0.434\n",
       "Sort_sq       -0.0128      0.006     -2.032      0.057      -0.026       0.000\n",
       "==============================================================================\n",
       "Omnibus:                        2.548   Durbin-Watson:                   1.369\n",
       "Prob(Omnibus):                  0.280   Jarque-Bera (JB):                1.777\n",
       "Skew:                           0.708   Prob(JB):                        0.411\n",
       "Kurtosis:                       2.846   Cond. No.                         373.\n",
       "==============================================================================\n",
       "\n",
       "Notes:\n",
       "[1] Standard Errors assume that the covariance matrix of the errors is correctly specified.\n",
       "\"\"\""
      ]
     },
     "execution_count": 36,
     "metadata": {},
     "output_type": "execute_result"
    }
   ],
   "source": [
    "DevT[\"Sort_sq\"]=DevT.sortt**2\n",
    "model_squad=smf.ols(\"np.log(delt)~sortt+Sort_sq\",data=DevT).fit()\n",
    "model_squad.summary()"
   ]
  },
  {
   "cell_type": "code",
   "execution_count": 44,
   "id": "f285b45c",
   "metadata": {},
   "outputs": [
    {
     "name": "stdout",
     "output_type": "stream",
     "text": [
      "By above 4 models the fit fot delivery time prediction ,model_squad is good\n"
     ]
    }
   ],
   "source": [
    "print(\"By above 4 models the fit fot delivery time prediction model is ,model_squad with R value 0.765\")"
   ]
  },
  {
   "cell_type": "code",
   "execution_count": null,
   "id": "96322802",
   "metadata": {},
   "outputs": [],
   "source": []
  },
  {
   "cell_type": "markdown",
   "id": "c0e99924",
   "metadata": {},
   "source": [
    "# model for salary hike with statsmodels"
   ]
  },
  {
   "cell_type": "code",
   "execution_count": 40,
   "id": "e05aca48",
   "metadata": {},
   "outputs": [
    {
     "data": {
      "text/html": [
       "<table class=\"simpletable\">\n",
       "<caption>OLS Regression Results</caption>\n",
       "<tr>\n",
       "  <th>Dep. Variable:</th>          <td>yexp</td>       <th>  R-squared:         </th> <td>   0.932</td>\n",
       "</tr>\n",
       "<tr>\n",
       "  <th>Model:</th>                   <td>OLS</td>       <th>  Adj. R-squared:    </th> <td>   0.930</td>\n",
       "</tr>\n",
       "<tr>\n",
       "  <th>Method:</th>             <td>Least Squares</td>  <th>  F-statistic:       </th> <td>   383.6</td>\n",
       "</tr>\n",
       "<tr>\n",
       "  <th>Date:</th>             <td>Mon, 28 Feb 2022</td> <th>  Prob (F-statistic):</th> <td>7.03e-18</td>\n",
       "</tr>\n",
       "<tr>\n",
       "  <th>Time:</th>                 <td>13:12:02</td>     <th>  Log-Likelihood:    </th> <td> -33.035</td>\n",
       "</tr>\n",
       "<tr>\n",
       "  <th>No. Observations:</th>      <td>    30</td>      <th>  AIC:               </th> <td>   70.07</td>\n",
       "</tr>\n",
       "<tr>\n",
       "  <th>Df Residuals:</th>          <td>    28</td>      <th>  BIC:               </th> <td>   72.87</td>\n",
       "</tr>\n",
       "<tr>\n",
       "  <th>Df Model:</th>              <td>     1</td>      <th>                     </th>     <td> </td>   \n",
       "</tr>\n",
       "<tr>\n",
       "  <th>Covariance Type:</th>      <td>nonrobust</td>    <th>                     </th>     <td> </td>   \n",
       "</tr>\n",
       "</table>\n",
       "<table class=\"simpletable\">\n",
       "<tr>\n",
       "       <td></td>          <th>coef</th>     <th>std err</th>      <th>t</th>      <th>P>|t|</th>  <th>[0.025</th>    <th>0.975]</th>  \n",
       "</tr>\n",
       "<tr>\n",
       "  <th>Intercept</th>   <td>  -77.6961</td> <td>    4.241</td> <td>  -18.322</td> <td> 0.000</td> <td>  -86.383</td> <td>  -69.009</td>\n",
       "</tr>\n",
       "<tr>\n",
       "  <th>np.log(sal)</th> <td>    7.4288</td> <td>    0.379</td> <td>   19.585</td> <td> 0.000</td> <td>    6.652</td> <td>    8.206</td>\n",
       "</tr>\n",
       "</table>\n",
       "<table class=\"simpletable\">\n",
       "<tr>\n",
       "  <th>Omnibus:</th>       <td> 1.748</td> <th>  Durbin-Watson:     </th> <td>   1.348</td>\n",
       "</tr>\n",
       "<tr>\n",
       "  <th>Prob(Omnibus):</th> <td> 0.417</td> <th>  Jarque-Bera (JB):  </th> <td>   1.213</td>\n",
       "</tr>\n",
       "<tr>\n",
       "  <th>Skew:</th>          <td>-0.227</td> <th>  Prob(JB):          </th> <td>   0.545</td>\n",
       "</tr>\n",
       "<tr>\n",
       "  <th>Kurtosis:</th>      <td> 2.126</td> <th>  Cond. No.          </th> <td>    347.</td>\n",
       "</tr>\n",
       "</table><br/><br/>Notes:<br/>[1] Standard Errors assume that the covariance matrix of the errors is correctly specified."
      ],
      "text/plain": [
       "<class 'statsmodels.iolib.summary.Summary'>\n",
       "\"\"\"\n",
       "                            OLS Regression Results                            \n",
       "==============================================================================\n",
       "Dep. Variable:                   yexp   R-squared:                       0.932\n",
       "Model:                            OLS   Adj. R-squared:                  0.930\n",
       "Method:                 Least Squares   F-statistic:                     383.6\n",
       "Date:                Mon, 28 Feb 2022   Prob (F-statistic):           7.03e-18\n",
       "Time:                        13:12:02   Log-Likelihood:                -33.035\n",
       "No. Observations:                  30   AIC:                             70.07\n",
       "Df Residuals:                      28   BIC:                             72.87\n",
       "Df Model:                           1                                         \n",
       "Covariance Type:            nonrobust                                         \n",
       "===============================================================================\n",
       "                  coef    std err          t      P>|t|      [0.025      0.975]\n",
       "-------------------------------------------------------------------------------\n",
       "Intercept     -77.6961      4.241    -18.322      0.000     -86.383     -69.009\n",
       "np.log(sal)     7.4288      0.379     19.585      0.000       6.652       8.206\n",
       "==============================================================================\n",
       "Omnibus:                        1.748   Durbin-Watson:                   1.348\n",
       "Prob(Omnibus):                  0.417   Jarque-Bera (JB):                1.213\n",
       "Skew:                          -0.227   Prob(JB):                        0.545\n",
       "Kurtosis:                       2.126   Cond. No.                         347.\n",
       "==============================================================================\n",
       "\n",
       "Notes:\n",
       "[1] Standard Errors assume that the covariance matrix of the errors is correctly specified.\n",
       "\"\"\""
      ]
     },
     "execution_count": 40,
     "metadata": {},
     "output_type": "execute_result"
    }
   ],
   "source": [
    "model1_sal=smf.ols(\"yexp~np.log(sal)\",data=SalH).fit()\n",
    "model1_sal.summary()"
   ]
  },
  {
   "cell_type": "markdown",
   "id": "97c5df71",
   "metadata": {},
   "source": [
    "# R value is 0.932 ,which is very close to 1 ,so our model is best fit for predicting salary hike"
   ]
  },
  {
   "cell_type": "code",
   "execution_count": null,
   "id": "0f112d63",
   "metadata": {},
   "outputs": [],
   "source": []
  }
 ],
 "metadata": {
  "kernelspec": {
   "display_name": "Python 3 (ipykernel)",
   "language": "python",
   "name": "python3"
  },
  "language_info": {
   "codemirror_mode": {
    "name": "ipython",
    "version": 3
   },
   "file_extension": ".py",
   "mimetype": "text/x-python",
   "name": "python",
   "nbconvert_exporter": "python",
   "pygments_lexer": "ipython3",
   "version": "3.9.7"
  }
 },
 "nbformat": 4,
 "nbformat_minor": 5
}
